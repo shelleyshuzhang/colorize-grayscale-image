{
  "nbformat": 4,
  "nbformat_minor": 0,
  "metadata": {
    "colab": {
      "name": "CNN_colorization.ipynb",
      "provenance": []
    },
    "kernelspec": {
      "name": "python3",
      "display_name": "Python 3"
    },
    "language_info": {
      "name": "python"
    }
  },
  "cells": [
    {
      "cell_type": "code",
      "execution_count": 4,
      "metadata": {
        "id": "CdSU6hhhRISJ"
      },
      "outputs": [],
      "source": [
        "#Importing Libraries\n",
        "\n",
        "from keras.preprocessing.image import ImageDataGenerator, array_to_img, img_to_array, load_img\n",
        "from skimage.color import rgb2lab, lab2rgb, rgb2gray\n",
        "from skimage.io import imsave\n",
        "import numpy as np\n",
        "import os\n",
        "import random\n",
        "import tensorflow as tf"
      ]
    },
    {
      "cell_type": "code",
      "source": [
        "from google.colab import drive\n",
        "drive.mount('/gdrive')"
      ],
      "metadata": {
        "colab": {
          "base_uri": "https://localhost:8080/"
        },
        "id": "0SthzRazUuwC",
        "outputId": "4f0338df-3c5d-4ed5-ff4a-a91299c2d986"
      },
      "execution_count": 2,
      "outputs": [
        {
          "output_type": "stream",
          "name": "stdout",
          "text": [
            "Mounted at /gdrive\n"
          ]
        }
      ]
    },
    {
      "cell_type": "code",
      "source": [
        "from google.colab import drive\n",
        "drive.mount('/content/drive')"
      ],
      "metadata": {
        "colab": {
          "base_uri": "https://localhost:8080/"
        },
        "id": "p-kOuOxoV2jP",
        "outputId": "674660ad-9c78-4974-a924-0a5b32a218fd"
      },
      "execution_count": 1,
      "outputs": [
        {
          "output_type": "stream",
          "name": "stdout",
          "text": [
            "Mounted at /content/drive\n"
          ]
        }
      ]
    },
    {
      "cell_type": "code",
      "source": [
        "#Getting Images\n",
        "\n",
        "X = []\n",
        "for imagename in os.listdir('drive/MyDrive/Colab Notebooks/Colorization/sk8screenshot'):\n",
        "    X.append(\n",
        "        img_to_array(\n",
        "            load_img('drive/MyDrive/Colab Notebooks/Colorization/sk8screenshot/' + imagename)))\n",
        "X = np.array(X, dtype=float)\n",
        "\n",
        "\n",
        "# Set up train and test data\n",
        "\n",
        "split = int(0.95*len(X))\n",
        "Xtrain = X[:split]\n",
        "Xtrain = 1.0/255*Xtrain"
      ],
      "metadata": {
        "id": "Wtt0yLM8RV4x"
      },
      "execution_count": null,
      "outputs": []
    },
    {
      "cell_type": "code",
      "source": [
        "#CNN model\n",
        "\n",
        "from keras.layers import Conv2D, Conv2DTranspose, UpSampling2D\n",
        "from keras.layers import Activation, Dense, Dropout, Flatten, InputLayer\n",
        "from keras.layers.normalization import BatchNormalization\n",
        "from keras.callbacks import TensorBoard, ModelCheckpoint\n",
        "from keras.models import Sequential\n",
        "\n",
        "model = Sequential()\n",
        "\n",
        "#Input Layer\n",
        "model.add(Conv2D(64, (3, 3), input_shape=(256, 256, 1), activation='relu', padding='same'))\n",
        "\n",
        "#Hidden Layers\n",
        "model.add(Conv2D(64, (3, 3), activation='relu', padding='same', strides=2))\n",
        "model.add(Conv2D(128, (3, 3), activation='relu', padding='same'))\n",
        "model.add(Conv2D(128, (3, 3), activation='relu', padding='same', strides=2))\n",
        "model.add(Conv2D(256, (3, 3), activation='relu', padding='same'))\n",
        "model.add(Conv2D(256, (3, 3), activation='relu', padding='same', strides=2))\n",
        "model.add(Conv2D(512, (3, 3), activation='relu', padding='same'))\n",
        "model.add(Conv2D(256, (3, 3), activation='relu', padding='same'))\n",
        "model.add(Conv2D(128, (3, 3), activation='relu', padding='same'))\n",
        "model.add(UpSampling2D((2, 2)))\n",
        "model.add(Conv2D(64, (3, 3), activation='relu', padding='same'))\n",
        "model.add(UpSampling2D((2, 2)))\n",
        "model.add(Conv2D(32, (3, 3), activation='relu', padding='same'))\n",
        "model.add(Conv2D(2, (3, 3), activation='tanh', padding='same'))\n",
        "model.add(UpSampling2D((2, 2)))\n",
        "\n",
        "#Compiling the CNN\n",
        "model.compile(optimizer='rmsprop', loss='mse', metrics = ['accuracy'])"
      ],
      "metadata": {
        "id": "IriFwshhRZZg"
      },
      "execution_count": null,
      "outputs": []
    },
    {
      "cell_type": "code",
      "source": [
        "import matplotlib.pyplot as plt\n",
        "\n",
        "# Image transformer\n",
        "datagen = ImageDataGenerator(\n",
        "        shear_range=0.2,\n",
        "        zoom_range=0.2,\n",
        "        rotation_range=20,\n",
        "        horizontal_flip=True)\n",
        "\n",
        "# Generate training data\n",
        "batch_size = 10\n",
        "def image_a_b_gen(batch_size):\n",
        "    for batch in datagen.flow(Xtrain, batch_size=batch_size):\n",
        "        lab_batch = rgb2lab(batch)\n",
        "        X_batch = lab_batch[:,:,:,0]\n",
        "        Y_batch = lab_batch[:,:,:,1:] / 128\n",
        "        yield (X_batch.reshape(X_batch.shape+(1,)), Y_batch)\n",
        "\n",
        "# Train model      \n",
        "tensorboard = TensorBoard(log_dir=\"/output/beta_run\")\n",
        "trainedmodel = model.fit_generator(image_a_b_gen(batch_size), callbacks=[tensorboard],epochs=500, steps_per_epoch=30)\n",
        "\n",
        "\n",
        "# summarize history for accuracy\n",
        "plt.plot(trainedmodel.history['acc'])\n",
        "plt.title('model accuracy')\n",
        "plt.ylabel('accuracy')\n",
        "plt.xlabel('epoch')\n",
        "plt.legend(['train', 'test'], loc='upper left')\n",
        "plt.show()\n",
        "\n",
        "# summarize history for loss\n",
        "plt.plot(trainedmodel.history['loss'])\n",
        "plt.title('model loss')\n",
        "plt.ylabel('loss')\n",
        "plt.xlabel('epoch')\n",
        "plt.legend(['train', 'test'], loc='upper left')\n",
        "plt.show()"
      ],
      "metadata": {
        "id": "Dd2tfK6SRfDe"
      },
      "execution_count": null,
      "outputs": []
    },
    {
      "cell_type": "code",
      "source": [
        "# Save model\n",
        "\n",
        "model_json = model.to_json()\n",
        "with open(\"model.json\", \"w\") as json_file:\n",
        "    json_file.write(model_json)\n",
        "model.save_weights(\"model.h5\")"
      ],
      "metadata": {
        "id": "-9Sm9zZIRkRm"
      },
      "execution_count": null,
      "outputs": []
    },
    {
      "cell_type": "code",
      "source": [
        "# load json and create model\n",
        "\n",
        "from keras.models import model_from_json\n",
        "json_file = open('model.json', 'r')\n",
        "loaded_model_json = json_file.read()\n",
        "json_file.close()\n",
        "loaded_model = model_from_json(loaded_model_json)\n",
        "# load weights into new model\n",
        "loaded_model.load_weights(\"model.h5\")"
      ],
      "metadata": {
        "id": "j4kZOYIyRnKN"
      },
      "execution_count": null,
      "outputs": []
    },
    {
      "cell_type": "code",
      "source": [
        "loaded_model.summary()"
      ],
      "metadata": {
        "id": "6ULhlj_YRry1"
      },
      "execution_count": null,
      "outputs": []
    },
    {
      "cell_type": "code",
      "source": [
        "# Test images\n",
        "\n",
        "Xtest = rgb2lab(1.0/255*X[split:])[:,:,:,0]\n",
        "Xtest = Xtest.reshape(Xtest.shape+(1,))\n",
        "Ytest = rgb2lab(1.0/255*X[split:])[:,:,:,1:]\n",
        "Ytest = Ytest / 128\n",
        "print(loaded_model.evaluate(Xtest, Ytest, batch_size=32))"
      ],
      "metadata": {
        "id": "3fRXi8w8RxcV"
      },
      "execution_count": null,
      "outputs": []
    },
    {
      "cell_type": "code",
      "source": [
        "# Manual Testing of Images\n",
        "\n",
        "import cv2\n",
        "import os\n",
        "%matplotlib inline \n",
        "from matplotlib import pyplot as plt\n",
        "\n",
        "fig, ax = plt.subplots(22, 2, figsize=(16,100))\n",
        "row = 0\n",
        "colorize = []\n",
        "print('Output of the Model')\n",
        "for filename in os.listdir('Dataset/Test/'):\n",
        "\tcolorize.append(img_to_array(load_img('Dataset/Test/'+filename)))\n",
        "\tax[row,0].imshow(load_img('Dataset/Test/'+filename), interpolation='nearest')\n",
        "\trow +=1\n",
        "\n",
        "colorize = np.array(colorize, dtype=float)\n",
        "colorize = rgb2lab(1.0/255*colorize)[:,:,:,0]\n",
        "colorize = colorize.reshape(colorize.shape+(1,))\n",
        "\n",
        "\n",
        "# Test model\n",
        "output = loaded_model.predict(colorize)\n",
        "output = output * 128\n",
        "\n",
        "row = 0\n",
        "\n",
        "# Output colorizations\n",
        "for i in range(len(output)):\n",
        "\tcur = np.zeros((256, 256, 3))\n",
        "\tcur[:,:,0] = colorize[i][:,:,0]\n",
        "\tcur[:,:,1:] = output[i]\n",
        "\tresImage = lab2rgb(cur)\n",
        "\tax[row,1].imshow(resImage, interpolation='nearest')\n",
        "\trow +=1\n",
        "    \n",
        "\n",
        "# \timsave(\"result/img_\"+str(i)+\".png\", resImage)"
      ],
      "metadata": {
        "id": "WWo6vgJjR4Qf"
      },
      "execution_count": null,
      "outputs": []
    }
  ]
}